{
  "cells": [
    {
      "cell_type": "markdown",
      "metadata": {
        "id": "view-in-github",
        "colab_type": "text"
      },
      "source": [
        "<a href=\"https://colab.research.google.com/github/saadkhi/GSoC-2025-Task/blob/main/Specific_Test_I.ipynb\" target=\"_parent\"><img src=\"https://colab.research.google.com/assets/colab-badge.svg\" alt=\"Open In Colab\"/></a>"
      ]
    },
    {
      "cell_type": "code",
      "source": [
        "from google.colab import auth, drive\n",
        "import gdown\n",
        "import os\n",
        "\n",
        "# Authentication for Google Drive\n",
        "auth.authenticate_user()\n",
        "\n",
        "# Mount Google Drive\n",
        "drive.mount('/content/drive')\n",
        "\n",
        "# Folder ID from the shared link\n",
        "folder_id = \"1BEqclQ2Tba2LayZqJn-JZ958dWTbeBJd\"\n",
        "\n",
        "# Destination in your Google Drive\n",
        "destination = \"/content/drive/My Drive/data\"\n",
        "\n",
        "# Create the destination folder if it doesn't exist\n",
        "os.makedirs(destination, exist_ok=True)\n",
        "\n",
        "# Use gdown to download the folder\n",
        "gdown.download_folder(f\"https://drive.google.com/drive/folders/{folder_id}\", output=destination, quiet=False, use_cookies=False)\n",
        "\n",
        "print(\"Download complete! Files saved in:\", destination)\n",
        "\n",
        "\n",
        "\n",
        "PDF_PATH_1 = \"/content/drive/My Drive/data/Ezcaray - Vozes.pdf\"  # Adjust if needed\n",
        "PDF_PATH_2 = \"/content/drive/My Drive/data/Constituciones sinodales Calahorra 1602.pdf\"  # Adjust if needed\n",
        "IMAGE_DIR = \"/content/drive/My Drive/data/images\"  # Create images in 'data' folder\n",
        "os.makedirs(IMAGE_DIR, exist_ok=True)"
      ],
      "metadata": {
        "id": "D-feVZqnTzYg",
        "outputId": "5de416d2-93bc-432a-98ec-284b971e308d",
        "colab": {
          "base_uri": "https://localhost:8080/"
        }
      },
      "execution_count": 6,
      "outputs": [
        {
          "output_type": "stream",
          "name": "stdout",
          "text": [
            "Drive already mounted at /content/drive; to attempt to forcibly remount, call drive.mount(\"/content/drive\", force_remount=True).\n"
          ]
        },
        {
          "output_type": "stream",
          "name": "stderr",
          "text": [
            "Retrieving folder contents\n"
          ]
        },
        {
          "output_type": "stream",
          "name": "stdout",
          "text": [
            "Processing file 1D-_mHyl98CwBWwqm2G93lmc3Gz3axL3T Constituciones sinodales Calahorra 1602.pdf\n",
            "Processing file 1M0h96AsGrAgg54qk92HyE10sHY_gBQ8q Ezcaray - Vozes.pdf\n"
          ]
        },
        {
          "output_type": "stream",
          "name": "stderr",
          "text": [
            "Retrieving folder contents completed\n",
            "Building directory structure\n",
            "Building directory structure completed\n",
            "Downloading...\n",
            "From: https://drive.google.com/uc?id=1D-_mHyl98CwBWwqm2G93lmc3Gz3axL3T\n",
            "To: /content/drive/My Drive/data/Constituciones sinodales Calahorra 1602.pdf\n",
            "100%|██████████| 1.81M/1.81M [00:00<00:00, 101MB/s]\n",
            "Downloading...\n",
            "From: https://drive.google.com/uc?id=1M0h96AsGrAgg54qk92HyE10sHY_gBQ8q\n",
            "To: /content/drive/My Drive/data/Ezcaray - Vozes.pdf\n",
            "100%|██████████| 3.44M/3.44M [00:00<00:00, 188MB/s]"
          ]
        },
        {
          "output_type": "stream",
          "name": "stdout",
          "text": [
            "Download complete! Files saved in: /content/drive/My Drive/data\n"
          ]
        },
        {
          "output_type": "stream",
          "name": "stderr",
          "text": [
            "\n",
            "Download completed\n"
          ]
        }
      ]
    },
    {
      "cell_type": "markdown",
      "source": [
        "Task 1"
      ],
      "metadata": {
        "id": "CDQmfNZBOoix"
      }
    }
  ],
  "metadata": {
    "accelerator": "GPU",
    "colab": {
      "gpuType": "T4",
      "provenance": [],
      "include_colab_link": true
    },
    "kernelspec": {
      "display_name": "Python 3",
      "name": "python3"
    },
    "language_info": {
      "name": "python"
    }
  },
  "nbformat": 4,
  "nbformat_minor": 0
}